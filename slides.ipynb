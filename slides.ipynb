{
 "cells": [
  {
   "cell_type": "markdown",
   "metadata": {
    "slideshow": {
     "slide_type": "slide"
    }
   },
   "source": [
    "# Seminario de Doctorado I\n",
    "## Busqueda de transitorios extragalacticos\n",
    "\n",
    "\n",
    "* **Doctorando: Lic. Bruno O. Sánchez**\n",
    "* **Director: Dr. Mariano Dom'inguez**\n",
    "* **Co-director: Marcelo Lares**"
   ]
  },
  {
   "cell_type": "markdown",
   "metadata": {
    "slideshow": {
     "slide_type": "skip"
    }
   },
   "source": [
    "\n",
    "La informacion que la observacion de los cielos aporta al conocimiento del universo es de naturaleza dinamica.  La detección de eventos transitorios se remonta a registros astronómicos en la mayoria de las culturas de la antiguedad y ha permitido comprender muchos fenómenos astrofísicos. Por otro lado, el estudio de las variaciones de las propiedades observables de objetos celestes es un elemento clave en el diseño de la próxima generación de relevamientos sistemáticos del cielo. El descubrimiento de nuevos eventos transitorios ha sido importante, por ejemplo, para determinar la expansion acelerada del universo, o mas recientemente en el descubrimiento de la emision electromagnetica de una fusion de una binaria de objetos compactos con una estrella de neutrones.\n",
    "En este seminario de doctorado se hará un repaso sobre los eventos transitorios y se presentara el trabajo realizado relacionado a las tecnicas de busqueda y sus aplicaciones a datos vinculados a los descubrimientos de los eventos GW150914, GW151226, GW170104, GW170814 y GW170817.\n"
   ]
  },
  {
   "cell_type": "markdown",
   "metadata": {
    "slideshow": {
     "slide_type": "slide"
    }
   },
   "source": [
    "## Variabilidad en el cielo y Eventos transitorios"
   ]
  },
  {
   "attachments": {},
   "cell_type": "markdown",
   "metadata": {
    "slideshow": {
     "slide_type": "subslide"
    }
   },
   "source": [
    "La dinamica en el cielo fue observada por el hombre desde siempre.\n",
    "\n",
    "Existen registros que superan los milenios de antiguedad, que atestiguan el interes humano por los movimientos celestes, y las razones naturales de estos cambios.\n",
    "\n",
    "Un gran ejemplo de esto es la supernova del 5 de Julio de 1054, registrada por diversas culturas, en particular China, y Arabe, pero tambien por culturas americanas como los Anasazi.\n",
    "\n",
    "|**Registros en China**|**Cañon del Chaco**|**Registros de Roma**|\n",
    "|:---:|:---:|:---:|\n",
    "|<img src='./imgs/Chinese_report_of_guest_star_identified_as_the_supernova_of_1054_(SN_1054)_in_the_Lidai_mingchen_zouyi_(历代名臣奏议).jpg'style=\"float:center;\" width=350/>|<img src='./imgs/Anasazipictogram.jpg' alt='GW' style=\"float:left;\" width=390/>|<img src='./imgs/220px-Heinrich_III._sieht_den_neuen_Stern_über_der_Stadt_Tivoli_(Tyburtina).jpg' width=250>|"
   ]
  },
  {
   "cell_type": "markdown",
   "metadata": {
    "slideshow": {
     "slide_type": "subslide"
    }
   },
   "source": [
    "## Variabilidad en el cielo y Eventos transitorios\n",
    "La astronomia moderna ha sido forjada a traves de los relevamientos del cielo, en busca de posiciones, fotometria, y clasificacion de los objetos. \n",
    "\n",
    "|**Supernova**|**Variable Stars in M5**|\n",
    "|:---:|:--:|\n",
    "|<img src=\"./imgs/Supernova_Image_Light_Curve_Spectrum_Illustration_of.gif\" style=\"float:left;\"width=450>|<img src=\"./imgs/m5-LRGB.gif\"style=\"float:right\" width=480>|\n"
   ]
  },
  {
   "cell_type": "markdown",
   "metadata": {
    "slideshow": {
     "slide_type": "fragment"
    }
   },
   "source": [
    "Las observaciones de Supernovas eran denominadas \"nova stella\", aunque ahora *novae* sea un tipo especifico de transitorio"
   ]
  },
  {
   "cell_type": "markdown",
   "metadata": {
    "slideshow": {
     "slide_type": "slide"
    }
   },
   "source": [
    "## Los Relevamientos Sinopticos\n",
    "\n",
    "La primera busqueda intensa de eventos transitorios fue llevada a cabo por Edwin Hubble con el telescopio de Mt. Wilson en California, intentando encontrar novas en M31 y asi medir su distancia.\n",
    "\n",
    "Estos relevamientos de descubrimiento de variaciones de brillo se desarrollo con Fritz Zwicky, y W. Baade, quienes comenzaron a controlar la *cadencia* y con objetivos ligados a la astrofisica del fenomeno a estudiar. \n",
    "\n",
    "W. Baade introdujo a Zwicky al uso del telescopio de campo amplio \"Schmidt\", y asi construyeron el P-18, el primer telescopio en el cerro Palomar.\n",
    "\n",
    "El primer paper de este instrumento constituyo un avance importante en la clasificacion de los transitorios, \n",
    "la diferencia entre las *novas clasicas* y las *Supernovae* (Baade & Zwicky 1934). "
   ]
  },
  {
   "cell_type": "markdown",
   "metadata": {
    "slideshow": {
     "slide_type": "subslide"
    }
   },
   "source": [
    "<img src='./imgs/diag1.png' width=800>"
   ]
  },
  {
   "cell_type": "markdown",
   "metadata": {
    "slideshow": {
     "slide_type": "subslide"
    }
   },
   "source": [
    "<img src=\"./imgs/taumv_ptf_nonames.jpg\" width=800 >"
   ]
  },
  {
   "cell_type": "markdown",
   "metadata": {
    "slideshow": {
     "slide_type": "slide"
    }
   },
   "source": [
    "## Un transitorio se puede encontrar cuando...\n",
    "-------------------------------------\n",
    "\n",
    "**Comparamos datos de diferentes *epocas* directamente**\n",
    "\n",
    "$\\Gamma \\ ( \\vec{D_{t_i}} \\ , \\vec{D_{t_{i+1}}} \\ )$\n",
    " ---------------------------------------------------"
   ]
  },
  {
   "cell_type": "markdown",
   "metadata": {
    "slideshow": {
     "slide_type": "fragment"
    }
   },
   "source": [
    "$  Diff = \\Gamma \\ ( \\ Ref, \\ New \\ )$\n",
    "---------------------"
   ]
  },
  {
   "cell_type": "markdown",
   "metadata": {
    "slideshow": {
     "slide_type": "subslide"
    }
   },
   "source": [
    "* Alard & Lupton 1998: \"A Method for Optimal Image Subtraction\"\n",
    "\n",
    "    $$ R \\ (x, y) \\ \\otimes \\ K \\ (u, v) \\cong N(x, y) $$\n",
    "    \n",
    "    $$ K \\ (u, v) = \\sum\\limits_{n} a_n \\ N(\\mu=0, \\sigma_u, \\sigma_v) \\ p_u(u) \\ p_v(v) $$"
   ]
  },
  {
   "cell_type": "markdown",
   "metadata": {
    "slideshow": {
     "slide_type": "fragment"
    }
   },
   "source": [
    "$$ D = N - R \\otimes \\mathscr{F}^{-1} \\left( \\frac{\\widehat{N}}{\\widehat{K}} \\right) $$ "
   ]
  },
  {
   "cell_type": "markdown",
   "metadata": {
    "slideshow": {
     "slide_type": "slide"
    }
   },
   "source": [
    "###  *Diference Image Analysis* (DIA)\n",
    "* Bramich 2008: \"A new algorithm for difference image analysis\"\n",
    "\n",
    "    $$ I_{ij}=\\sum\\limits_{l, m} K_{lm}R_{i+l, j+m}  + B_0 $$"
   ]
  },
  {
   "cell_type": "markdown",
   "metadata": {
    "slideshow": {
     "slide_type": "fragment"
    }
   },
   "source": [
    "\\begin{equation}\n",
    " Q = \\int \\lvert N(x,y) -  (Ref(x, y) \\otimes Ker (u, v) ) \\rvert^2 \n",
    "\\end{equation}"
   ]
  },
  {
   "cell_type": "markdown",
   "metadata": {
    "slideshow": {
     "slide_type": "slide"
    }
   },
   "source": [
    "### *Proper image subtraction*\n",
    "* Zackay, Ofek, Gal-Yam (2016)\n",
    "\n",
    "\n",
    "    \n",
    "$$R(x, y) = T(x, y) \\otimes P_r(u, v, x, y)  + \\epsilon_r $$"
   ]
  },
  {
   "cell_type": "markdown",
   "metadata": {
    "slideshow": {
     "slide_type": "fragment"
    }
   },
   "source": [
    "\n",
    "    \n",
    "$$ I(x, y) = T(x, y) \\otimes P_n(u, v, x, y)  + \\epsilon_n $$ "
   ]
  },
  {
   "cell_type": "markdown",
   "metadata": {
    "slideshow": {
     "slide_type": "fragment"
    }
   },
   "source": [
    "\\begin{align}\\label{eqn:hip_null}\n",
    "\\mathcal{H}_0 &: N = z_N \\ T \\otimes P_N  + \\epsilon_N \\\\\n",
    " \\label{eqn:hip_alt}\n",
    "\\mathcal{H}_1(q, \\alpha) &: N = z_N \\ (T + \\alpha \\delta_q) \\otimes P_N + \\epsilon_N.\n",
    "\\end{align}"
   ]
  },
  {
   "cell_type": "markdown",
   "metadata": {
    "slideshow": {
     "slide_type": "fragment"
    }
   },
   "source": [
    "<center>$$ \\mathcal{L} (q, \\alpha) = \\frac{\\mathcal{P}(I, R | \\mathcal{H}_0)}{\\mathcal{P}(I, R | \\mathcal{H}_1(q, \\alpha))} $$</center>"
   ]
  },
  {
   "cell_type": "markdown",
   "metadata": {
    "slideshow": {
     "slide_type": "subslide"
    }
   },
   "source": [
    "\\begin{equation}\\label{eqn:S_hat}\n",
    "\\widehat{S} = \\frac{z_R \\ z_N^2\\ \\overline{\\widehat{P_N}}\\ |\\widehat{P_R}|^2\\ \\widehat{N} - \n",
    "                    z_N \\ z_R^2\\ \\overline{\\widehat{P_R}}\\ |\\widehat{P_N}|^2\\ \\widehat{R}}\n",
    "\t\t    {z_N^2 |\\widehat{P_N}|^2 + z_R^2 |\\widehat{P_R}|^2},\n",
    "\\end{equation} "
   ]
  },
  {
   "cell_type": "markdown",
   "metadata": {
    "slideshow": {
     "slide_type": "fragment"
    }
   },
   "source": [
    "$$\\widehat{S} = \\widehat{P_D} \\widehat{D}$$"
   ]
  },
  {
   "cell_type": "markdown",
   "metadata": {
    "slideshow": {
     "slide_type": "fragment"
    }
   },
   "source": [
    "\\begin{align}\\label{eqn:diff}\n",
    " \\widehat{D} &= \\frac{z_R\\ \\widehat{P_R}\\ \\widehat{N} - z_N\\ \\widehat{P_N}\\ \\widehat{R}}{\\sqrt{\\sigma_N^2 z_R^2 |\\widehat{P_R}|^2 + \\sigma_R^2 z_N^2|\\widehat{P_N}|^2}}\\\\\n",
    " \\widehat{P_D} &= \\frac{z_R\\ z_N\\ \\widehat{P_R}\\ \\widehat{P_N}}{z_D\\sqrt{\\sigma_N^2 z_R^2 |\\widehat{P_R}|^2 + \\sigma_R^2 z_N^2|\\widehat{P_N}|^2}}\n",
    "\\end{align}"
   ]
  },
  {
   "cell_type": "markdown",
   "metadata": {
    "slideshow": {
     "slide_type": "fragment"
    }
   },
   "source": [
    "$$z_D = \\frac{z_N\\ z_R}{\\sqrt{\\sigma_N^2 z_R^2 + \\sigma_R^2 z_N^2}}.$$\n"
   ]
  },
  {
   "cell_type": "markdown",
   "metadata": {
    "slideshow": {
     "slide_type": "subslide"
    }
   },
   "source": [
    "## Medicion de PSF"
   ]
  },
  {
   "cell_type": "markdown",
   "metadata": {
    "slideshow": {
     "slide_type": "fragment"
    }
   },
   "source": [
    "* Utiliza *Karhunen-Loeve* para estimar PSF variable en el espacio (Lauer 2002): es un método para extraer la máxima información posible de un conjunto de $N$ observaciones, reduciendo la dimensionalidad:\n"
   ]
  },
  {
   "cell_type": "markdown",
   "metadata": {
    "slideshow": {
     "slide_type": "fragment"
    }
   },
   "source": [
    "$$ P(u, v, x, y) = \\sum\\limits_{i=1}^{\\infty} a_i(u, v) p_i(x, y) \\approx \\sum\\limits_{i=1}^{K} a_i(u, v) p_i(x, y) $$"
   ]
  },
  {
   "cell_type": "markdown",
   "metadata": {
    "slideshow": {
     "slide_type": "fragment"
    }
   },
   "source": [
    "$$ I(x, y) = \\sum\\limits_{i=1}^{K}a_i(x, y)  (T \\otimes p_i)(x, y) $$"
   ]
  },
  {
   "cell_type": "markdown",
   "metadata": {
    "slideshow": {
     "slide_type": "subslide"
    }
   },
   "source": [
    "## **ProperImage**\n",
    "\n",
    "$$ C_{i, j} = < P^*_i , P^*_j> $$\n",
    "\n",
    "Autovalores, autovectores:  $$ \\lambda_j, \\overrightarrow{\\omega_j} $$"
   ]
  },
  {
   "cell_type": "markdown",
   "metadata": {
    "slideshow": {
     "slide_type": "fragment"
    }
   },
   "source": [
    "Al calcular los $\\sum \\tilde{\\lambda_j}=1$ (normalizados) podemos despreciar auto-valores cercanos a cero, acotando una *perdida de informacion* PI:\n",
    "\n",
    "$$PI := 1 - \\sum |\\tilde{\\lambda}_K|^2.$$\n",
    "\n",
    "Esto reduce la dimensión del problema a una dimension $ K << N $. Típicamente: $ K = 1 $.\n",
    "\n",
    "Si la Psf varía intensamente es probable un orden mayor."
   ]
  },
  {
   "cell_type": "markdown",
   "metadata": {
    "slideshow": {
     "slide_type": "fragment"
    }
   },
   "source": [
    "$$ p_i = \\sum\\limits_{j=1}^{N}(\\overrightarrow{\\omega_i})_j P^*_j $$"
   ]
  },
  {
   "cell_type": "markdown",
   "metadata": {
    "slideshow": {
     "slide_type": "subslide"
    }
   },
   "source": [
    "## **ProperImage**\n",
    "\n",
    "Los campos $ a_i(x, y) $ son determinados mediante proyecciones:\n",
    "\n",
    "$$ a_j(x_i, y_i) = \\frac{ <P^*_i , p_j >}{ \\|p_j\\|^2} $$"
   ]
  },
  {
   "cell_type": "markdown",
   "metadata": {
    "slideshow": {
     "slide_type": "slide"
    }
   },
   "source": [
    "## La busqueda de contrapartes de Adv. LIGO"
   ]
  },
  {
   "cell_type": "markdown",
   "metadata": {
    "collapsed": true
   },
   "source": [
    "|**Adv LIGO**|**GW150914**|\n",
    "|:---:|:--:|\n",
    "|<img src=\"./imgs/medium.png\" style=\"float:left;\"width=650>|<img src=\"./imgs/medium_fp.png\"style=\"float:right\" width=550>|"
   ]
  },
  {
   "cell_type": "markdown",
   "metadata": {
    "slideshow": {
     "slide_type": "subslide"
    }
   },
   "source": [
    "<img src='./imgs/tiles.png'width=800>"
   ]
  },
  {
   "cell_type": "markdown",
   "metadata": {
    "slideshow": {
     "slide_type": "subslide"
    }
   },
   "source": [
    "<img src='./imgs/timeline.png' width=900>"
   ]
  },
  {
   "cell_type": "markdown",
   "metadata": {
    "slideshow": {
     "slide_type": "subslide"
    }
   },
   "source": [
    "<img src='./imgs/posterior_estiamations.png'>"
   ]
  },
  {
   "cell_type": "code",
   "execution_count": null,
   "metadata": {
    "collapsed": true
   },
   "outputs": [],
   "source": []
  },
  {
   "cell_type": "code",
   "execution_count": null,
   "metadata": {
    "collapsed": true
   },
   "outputs": [],
   "source": []
  }
 ],
 "metadata": {
  "celltoolbar": "Slideshow",
  "kernelspec": {
   "display_name": "Python 2",
   "language": "python",
   "name": "python2"
  },
  "language_info": {
   "codemirror_mode": {
    "name": "ipython",
    "version": 2
   },
   "file_extension": ".py",
   "mimetype": "text/x-python",
   "name": "python",
   "nbconvert_exporter": "python",
   "pygments_lexer": "ipython2",
   "version": "2.7.9"
  }
 },
 "nbformat": 4,
 "nbformat_minor": 2
}
