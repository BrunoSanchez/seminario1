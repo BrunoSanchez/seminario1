{
 "cells": [
  {
   "cell_type": "markdown",
   "metadata": {
    "slideshow": {
     "slide_type": "slide"
    }
   },
   "source": [
    "# Busqueda de transitorios extragalacticos\n",
    "\n",
    "\n",
    "### Bruno O. Sánchez"
   ]
  },
  {
   "cell_type": "markdown",
   "metadata": {
    "slideshow": {
     "slide_type": "skip"
    }
   },
   "source": [
    "\n",
    "La informacion que la observacion de los cielos aporta al conocimiento del universo es de naturaleza dinamica.  La detección de eventos transitorios se remonta a registros astronómicos en la mayoria de las culturas de la antiguedad y ha permitido comprender muchos fenómenos astrofísicos. Por otro lado, el estudio de las variaciones de las propiedades observables de objetos celestes es un elemento clave en el diseño de la próxima generación de relevamientos sistemáticos del cielo. El descubrimiento de nuevos eventos transitorios ha sido importante, por ejemplo, para determinar la expansion acelerada del universo, o mas recientemente en el descubrimiento de la emision electromagnetica de una fusion de una binaria de objetos compactos con una estrella de neutrones.\n",
    "En este seminario de doctorado se hará un repaso sobre los eventos transitorios y se presentara el trabajo realizado relacionado a las tecnicas de busqueda y sus aplicaciones a datos vinculados a los descubrimientos de los eventos GW150914, GW151226, GW170104, GW170814 y GW170817.\n"
   ]
  },
  {
   "cell_type": "markdown",
   "metadata": {},
   "source": []
  },
  {
   "cell_type": "markdown",
   "metadata": {
    "slideshow": {
     "slide_type": "slide"
    }
   },
   "source": [
    "## A transient can be detected when...\n",
    "-------------------------------------\n",
    "\n",
    "**We have data for two different epochs, and we compare them directly**\n",
    "\n",
    "$\\Gamma \\ ( \\vec{D_{t_i}} \\ , \\vec{D_{t_{i+1}}} \\ )$\n",
    " ---------------------------------------------------"
   ]
  },
  {
   "cell_type": "markdown",
   "metadata": {
    "slideshow": {
     "slide_type": "fragment"
    }
   },
   "source": [
    "$$  Diff = \\Gamma \\ ( \\ Ref, \\ New \\ )$$"
   ]
  },
  {
   "cell_type": "markdown",
   "metadata": {
    "slideshow": {
     "slide_type": "subslide"
    }
   },
   "source": [
    "* Alard & Lupton 1998: \"A Method for Optimal Image Subtraction\"\n",
    "\n",
    "    $$ R \\ (x, y) \\ \\otimes \\ K \\ (u, v) \\cong N(x, y) $$\n",
    "    \n",
    "    $$ K \\ (u, v) = \\sum\\limits_{n} a_n \\ N(\\mu=0, \\sigma_u, \\sigma_v) \\ p_u(u) \\ p_v(v) $$"
   ]
  },
  {
   "cell_type": "markdown",
   "metadata": {
    "slideshow": {
     "slide_type": "subslide"
    }
   },
   "source": [
    "$$ D = N - R \\otimes \\mathscr{F}^{-1} \\left( \\frac{\\widehat{N}}{\\widehat{K}} \\right) $$ "
   ]
  },
  {
   "cell_type": "markdown",
   "metadata": {
    "slideshow": {
     "slide_type": "slide"
    }
   },
   "source": [
    "##  *Diference Image Analysis* (DIA)\n",
    "* Bramich 2008: \"A new algorithm for difference image analysis\"\n",
    "\n",
    "    $$ I_{ij}=\\sum\\limits_{l, m} K_{lm}R_{i+l, j+m}  + B_0 $$"
   ]
  },
  {
   "cell_type": "markdown",
   "metadata": {
    "slideshow": {
     "slide_type": "slide"
    }
   },
   "source": [
    "### Zackay, Ofek, Gal-Yam (2016)\n",
    "\n",
    "**Referencia**\n",
    "    \n",
    "$$R(x, y) = T(x, y) \\otimes P_r(u, v, x, y)  + \\epsilon_r $$"
   ]
  },
  {
   "cell_type": "markdown",
   "metadata": {
    "slideshow": {
     "slide_type": "fragment"
    }
   },
   "source": [
    "**Nueva Imagen **\n",
    "    \n",
    "$$ I(x, y) = T(x, y) \\otimes P_n(u, v, x, y)  + \\epsilon_n $$ "
   ]
  },
  {
   "cell_type": "markdown",
   "metadata": {},
   "source": [
    "\\begin{align}\\label{eqn:hip_null}\n",
    "\\mathcal{H}_0 &: N = z_N \\ T \\otimes P_N  + \\epsilon_N \\\\\n",
    " \\label{eqn:hip_alt}\n",
    "\\mathcal{H}_1(q, \\alpha) &: N = z_N \\ (T + \\alpha \\delta_q) \\otimes P_N + \\epsilon_N.\n",
    "\\end{align}"
   ]
  },
  {
   "cell_type": "markdown",
   "metadata": {
    "slideshow": {
     "slide_type": "fragment"
    }
   },
   "source": [
    "El *likelihood ratio* se define como:\n",
    "\n",
    "<center>$$ \\mathcal{L} (q, \\alpha) = \\frac{\\mathcal{P}(I, R | \\mathcal{H}_0)}{\\mathcal{P}(I, R | \\mathcal{H}_1(q, \\alpha))} $$</center>"
   ]
  },
  {
   "cell_type": "markdown",
   "metadata": {},
   "source": [
    "\\begin{equation}\\label{eqn:S_hat}\n",
    "\\widehat{S} = \\frac{z_R \\ z_N^2\\ \\overline{\\widehat{P_N}}\\ |\\widehat{P_R}|^2\\ \\widehat{N} - \n",
    "                    z_N \\ z_R^2\\ \\overline{\\widehat{P_R}}\\ |\\widehat{P_N}|^2\\ \\widehat{R}}\n",
    "\t\t    {z_N^2 |\\widehat{P_N}|^2 + z_R^2 |\\widehat{P_R}|^2},\n",
    "\\end{equation} "
   ]
  },
  {
   "cell_type": "markdown",
   "metadata": {
    "slideshow": {
     "slide_type": "subslide"
    }
   },
   "source": [
    "## Medicion de PSF"
   ]
  },
  {
   "cell_type": "markdown",
   "metadata": {
    "slideshow": {
     "slide_type": "fragment"
    }
   },
   "source": [
    "* Utiliza *Karhunen-Loeve* para estimar PSF variable en el espacio (Lauer 2002): es un método para extraer la máxima información posible de un conjunto de $N$ observaciones, reduciendo la dimensionalidad:\n"
   ]
  },
  {
   "cell_type": "markdown",
   "metadata": {
    "slideshow": {
     "slide_type": "fragment"
    }
   },
   "source": [
    "$$ P(u, v, x, y) = \\sum\\limits_{i=1}^{\\infty} a_i(u, v) p_i(x, y) \\approx \\sum\\limits_{i=1}^{K} a_i(u, v) p_i(x, y) $$"
   ]
  },
  {
   "cell_type": "markdown",
   "metadata": {
    "slideshow": {
     "slide_type": "fragment"
    }
   },
   "source": [
    "$$ I(x, y) = \\sum\\limits_{i=1}^{K}a_i(x, y)  (T \\otimes p_i)(x, y) $$"
   ]
  },
  {
   "cell_type": "markdown",
   "metadata": {
    "slideshow": {
     "slide_type": "fragment"
    }
   },
   "source": [
    "## **ProperImage**\n",
    "\n",
    "$$ C_{i, j} = < P^*_i , P^*_j> $$\n",
    "\n",
    "Autovalores, autovectores:  $$ \\lambda_j, \\overrightarrow{\\omega_j} $$"
   ]
  },
  {
   "cell_type": "markdown",
   "metadata": {
    "slideshow": {
     "slide_type": "fragment"
    }
   },
   "source": [
    "Al calcular los $\\lambda_j$ podemos despreciar aquellos que poseen auto-valores cercanos a cero.\n",
    "\n",
    "Esto reduce la dimensión del problema a una dimension $ K << N $. Típicamente: $ K = 1 $.\n",
    "\n",
    "Si la Psf varía intensamente es probable un orden mayor."
   ]
  },
  {
   "cell_type": "markdown",
   "metadata": {
    "slideshow": {
     "slide_type": "fragment"
    }
   },
   "source": [
    "$$ p_i = \\sum\\limits_{j=1}^{N}(\\overrightarrow{\\omega_i})_j P^*_j $$"
   ]
  },
  {
   "cell_type": "markdown",
   "metadata": {
    "slideshow": {
     "slide_type": "fragment"
    }
   },
   "source": [
    "## **ProperImage**\n",
    "\n",
    "Los campos $ a_i(x, y) $ son determinados mediante proyecciones:\n",
    "\n",
    "$$ a_j(x_i, y_i) = \\frac{ <P^*_i , p_j >}{ \\|p_j\\|^2} $$"
   ]
  },
  {
   "cell_type": "code",
   "execution_count": null,
   "metadata": {
    "collapsed": true
   },
   "outputs": [],
   "source": []
  }
 ],
 "metadata": {
  "celltoolbar": "Slideshow",
  "kernelspec": {
   "display_name": "Python 2",
   "language": "python",
   "name": "python2"
  },
  "language_info": {
   "codemirror_mode": {
    "name": "ipython",
    "version": 2
   },
   "file_extension": ".py",
   "mimetype": "text/x-python",
   "name": "python",
   "nbconvert_exporter": "python",
   "pygments_lexer": "ipython2",
   "version": "2.7.12"
  }
 },
 "nbformat": 4,
 "nbformat_minor": 2
}
