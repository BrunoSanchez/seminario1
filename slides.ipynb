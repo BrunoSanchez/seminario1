{
 "cells": [
  {
   "cell_type": "markdown",
   "metadata": {
    "slideshow": {
     "slide_type": "slide"
    }
   },
   "source": [
    "# Busqueda de transitorios extragalacticos\n",
    "\n",
    "\n",
    "### Bruno O. Sánchez"
   ]
  },
  {
   "cell_type": "markdown",
   "metadata": {
    "slideshow": {
     "slide_type": "slide"
    }
   },
   "source": [
    "La detección de eventos transitorios en la astronomía se remontaria a los registros de astronomos de todas las culturas de la antiguedad, la supernova 1054 por ejemplo. La informacion que la observacion de los cielos aporta al conocimiento del universo es de naturaleza dinamica. Por ejemplo la variacion en la luz que observamos es fundamental para nuestro entendimiento de la vida de las estrellas y otros procesos del universo. Registros sistematicos modernos sobre estas variaciones fueron iniciados por astronomos como Zwicky, quien en su momento duplico el numero de Supernovas detectadas hasta el momento. \n",
    "La importancia del descubrimiento de nuevos eventos transitorios de esta naturaleza quedó fue demostrada en los trabajos que determinaron la expansion acelerada del universo, y mas recientemente en el descubrimiento de la emision electromagnetica de una fusion de una binaria de objetos compactos con una estrella de neutrones.\n",
    "En este seminario de doctorado se presentara el trabajo realizado relacionado a la busqueda de eventos transitorios, relacionado a las tecnicas del area y su aplicacion a datos relacionados a los descubrimientos de los eventos GW150914, GW151226, GW170104, GW170814 y GW170817."
   ]
  }
 ],
 "metadata": {
  "celltoolbar": "Slideshow",
  "kernelspec": {
   "display_name": "Python 2",
   "language": "python",
   "name": "python2"
  },
  "language_info": {
   "codemirror_mode": {
    "name": "ipython",
    "version": 2
   },
   "file_extension": ".py",
   "mimetype": "text/x-python",
   "name": "python",
   "nbconvert_exporter": "python",
   "pygments_lexer": "ipython2",
   "version": "2.7.9"
  }
 },
 "nbformat": 4,
 "nbformat_minor": 2
}
